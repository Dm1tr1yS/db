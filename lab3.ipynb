{
 "cells": [
  {
   "cell_type": "code",
   "execution_count": 15,
   "id": "251e9058",
   "metadata": {},
   "outputs": [],
   "source": [
    "import sklearn as sk\n",
    "import pandas as pd\n",
    "import numpy as np\n",
    "from sklearn.linear_model import LinearRegression"
   ]
  },
  {
   "cell_type": "code",
   "execution_count": 7,
   "id": "38941ada",
   "metadata": {},
   "outputs": [
    {
     "data": {
      "text/html": [
       "<div>\n",
       "<style scoped>\n",
       "    .dataframe tbody tr th:only-of-type {\n",
       "        vertical-align: middle;\n",
       "    }\n",
       "\n",
       "    .dataframe tbody tr th {\n",
       "        vertical-align: top;\n",
       "    }\n",
       "\n",
       "    .dataframe thead th {\n",
       "        text-align: right;\n",
       "    }\n",
       "</style>\n",
       "<table border=\"1\" class=\"dataframe\">\n",
       "  <thead>\n",
       "    <tr style=\"text-align: right;\">\n",
       "      <th></th>\n",
       "      <th>price_eur</th>\n",
       "      <th>engine_power</th>\n",
       "    </tr>\n",
       "  </thead>\n",
       "  <tbody>\n",
       "    <tr>\n",
       "      <th>1</th>\n",
       "      <td>111.03</td>\n",
       "      <td>90.0</td>\n",
       "    </tr>\n",
       "    <tr>\n",
       "      <th>2</th>\n",
       "      <td>9622.50</td>\n",
       "      <td>140.0</td>\n",
       "    </tr>\n",
       "    <tr>\n",
       "      <th>3</th>\n",
       "      <td>3145.82</td>\n",
       "      <td>132.0</td>\n",
       "    </tr>\n",
       "    <tr>\n",
       "      <th>4</th>\n",
       "      <td>6106.59</td>\n",
       "      <td>132.0</td>\n",
       "    </tr>\n",
       "    <tr>\n",
       "      <th>10</th>\n",
       "      <td>2405.63</td>\n",
       "      <td>110.0</td>\n",
       "    </tr>\n",
       "    <tr>\n",
       "      <th>...</th>\n",
       "      <td>...</td>\n",
       "      <td>...</td>\n",
       "    </tr>\n",
       "    <tr>\n",
       "      <th>2945</th>\n",
       "      <td>2405.63</td>\n",
       "      <td>132.0</td>\n",
       "    </tr>\n",
       "    <tr>\n",
       "      <th>2946</th>\n",
       "      <td>34604.00</td>\n",
       "      <td>324.0</td>\n",
       "    </tr>\n",
       "    <tr>\n",
       "      <th>2947</th>\n",
       "      <td>3293.86</td>\n",
       "      <td>132.0</td>\n",
       "    </tr>\n",
       "    <tr>\n",
       "      <th>2948</th>\n",
       "      <td>2586.97</td>\n",
       "      <td>103.0</td>\n",
       "    </tr>\n",
       "    <tr>\n",
       "      <th>2949</th>\n",
       "      <td>2405.63</td>\n",
       "      <td>100.0</td>\n",
       "    </tr>\n",
       "  </tbody>\n",
       "</table>\n",
       "<p>1043 rows × 2 columns</p>\n",
       "</div>"
      ],
      "text/plain": [
       "      price_eur  engine_power\n",
       "1        111.03          90.0\n",
       "2       9622.50         140.0\n",
       "3       3145.82         132.0\n",
       "4       6106.59         132.0\n",
       "10      2405.63         110.0\n",
       "...         ...           ...\n",
       "2945    2405.63         132.0\n",
       "2946   34604.00         324.0\n",
       "2947    3293.86         132.0\n",
       "2948    2586.97         103.0\n",
       "2949    2405.63         100.0\n",
       "\n",
       "[1043 rows x 2 columns]"
      ]
     },
     "execution_count": 7,
     "metadata": {},
     "output_type": "execute_result"
    }
   ],
   "source": [
    "#Как было видно из предудыщей лр, лучшую корреляцию показывают цена и мощность двигателя\n",
    "#Попробуем обучить модель и достроить пустые ячейки\n",
    "car_to_ml=pd.read_csv('C:/Users/Dima/Desktop/bd/german_car.csv')\n",
    "car_to_ml=car_to_ml[(car_to_ml.price_eur>0)&(car_to_ml.engine_power>0)][['price_eur', 'engine_power']]\n",
    "car_to_ml"
   ]
  },
  {
   "cell_type": "code",
   "execution_count": 10,
   "id": "29ce7c03",
   "metadata": {},
   "outputs": [
    {
     "data": {
      "text/plain": [
       "array([[  111.03],\n",
       "       [ 9622.5 ],\n",
       "       [ 3145.82],\n",
       "       ...,\n",
       "       [10695.78],\n",
       "       [ 3663.95],\n",
       "       [13656.55]])"
      ]
     },
     "execution_count": 10,
     "metadata": {},
     "output_type": "execute_result"
    }
   ],
   "source": [
    "train_price = np.array(car_to_ml.price_eur)[:-20].reshape(-1, 1)\n",
    "train_price"
   ]
  },
  {
   "cell_type": "code",
   "execution_count": 12,
   "id": "22b994e2",
   "metadata": {},
   "outputs": [
    {
     "data": {
      "text/plain": [
       "array([ 90., 140., 132., ..., 171.,  77.,  95.])"
      ]
     },
     "execution_count": 12,
     "metadata": {},
     "output_type": "execute_result"
    }
   ],
   "source": [
    "train_power = np.array(car_to_ml.engine_power)[:-20]\n",
    "train_power"
   ]
  },
  {
   "cell_type": "code",
   "execution_count": 17,
   "id": "fe55c4e0",
   "metadata": {},
   "outputs": [],
   "source": [
    "pricepower_regressor=LinearRegression().fit(train_price, train_power)"
   ]
  },
  {
   "cell_type": "code",
   "execution_count": 20,
   "id": "a8a8bfe6",
   "metadata": {},
   "outputs": [
    {
     "data": {
      "text/plain": [
       "0.4966996735218663"
      ]
     },
     "execution_count": 20,
     "metadata": {},
     "output_type": "execute_result"
    }
   ],
   "source": [
    "pricepower_regressor.score(np.array(car_to_ml.price_eur)[-20:].reshape(-1, 1), np.array(car_to_ml.engine_power)[-20:])"
   ]
  },
  {
   "cell_type": "code",
   "execution_count": null,
   "id": "cbc63376",
   "metadata": {},
   "outputs": [],
   "source": []
  }
 ],
 "metadata": {
  "kernelspec": {
   "display_name": "Python 3 (ipykernel)",
   "language": "python",
   "name": "python3"
  },
  "language_info": {
   "codemirror_mode": {
    "name": "ipython",
    "version": 3
   },
   "file_extension": ".py",
   "mimetype": "text/x-python",
   "name": "python",
   "nbconvert_exporter": "python",
   "pygments_lexer": "ipython3",
   "version": "3.10.9"
  }
 },
 "nbformat": 4,
 "nbformat_minor": 5
}
